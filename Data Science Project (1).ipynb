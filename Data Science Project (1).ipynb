{
 "cells": [
  {
   "cell_type": "code",
   "execution_count": null,
   "metadata": {},
   "outputs": [],
   "source": []
  },
  {
   "cell_type": "markdown",
   "metadata": {},
   "source": [
    "## CS 2064: Jake Fortuna\n",
    "\n",
    "### Data Science Research questions\n",
    "1. What is the percent change of the top 5 ranked Crypto Currency's?\n",
    "2. What is the hottest temperature ever recorded on earth?\n",
    "3. How does the average time to complete a video game vary from 2004-2008?\n",
    "\n",
    "### Sources\n",
    "- Cryptocurrency API: https://api.coinlore.net/api/tickers/\n",
    "- Highest Temperature Recorded on Earth: https://en.wikipedia.org/wiki/Highest_temperature_recorded_on_Earth\n",
    "- Corgis Video Game Data: https://corgis-edu.github.io/corgis/datasets/json/video_games/video_games.json"
   ]
  },
  {
   "cell_type": "code",
   "execution_count": 1,
   "metadata": {},
   "outputs": [],
   "source": [
    "'''Imports and Utility Functions'''\n",
    "# In this cell, I import all of the necessary modules for the remaining cells\n",
    "import requests\n",
    "import json\n",
    "from pprint import pprint\n",
    "import matplotlib.pyplot as plt\n",
    "from bs4 import BeautifulSoup as bs"
   ]
  },
  {
   "cell_type": "code",
   "execution_count": 189,
   "metadata": {},
   "outputs": [
    {
     "name": "stdout",
     "output_type": "stream",
     "text": [
      "24 Hour Rate Changes for the top 5 current Cryptocurrencies\n",
      "\n",
      "1 Bitcoin 5.69\n",
      "2 Ethereum 2.48\n",
      "3 Tether -0.05\n",
      "4 Binance Coin -0.50\n",
      "5 USD Coin -0.05\n"
     ]
    }
   ],
   "source": [
    "''' Public API: your findings '''\n",
    "# In this cell I use a public api to answer a question about the top 5 cryptocurrencies \n",
    "first_url = 'https://api.coinlore.net/api/tickers/'\n",
    "first_response = requests.get(first_url)\n",
    "first_json = first_response.json()\n",
    "top_5_names = []\n",
    "day_difference = {}\n",
    "\n",
    "for i in range(1, 6):\n",
    "    for coin in firstJson['data']:\n",
    "        if coin['rank'] == i:\n",
    "            top_5_names.append(coin['name'])\n",
    "            day_difference[coin['name']] = coin['percent_change_24h']\n",
    "\n",
    "\n",
    "print('24 Hour Rate Changes for the top 5 current Cryptocurrencies\\n')\n",
    "count = 1\n",
    "for name in top_5_names:\n",
    "    print(count, name, day_difference[name])\n",
    "    count += 1"
   ]
  },
  {
   "cell_type": "code",
   "execution_count": 184,
   "metadata": {},
   "outputs": [
    {
     "name": "stdout",
     "output_type": "stream",
     "text": [
      "In the early 21st century, prior recordings for the highest temperature on Earth were investigated as probable misreadings. From 1922 until 2012, the WMO record for the highest official temperature on Earth was 57.8 °C (136.0 °F)\n"
     ]
    }
   ],
   "source": [
    "''' Web Scraping: your findings '''\n",
    "# In this cell I webscrape a quote from wikipedia about the highest temperature ever recorded on Earth\n",
    "secondURL = 'https://en.wikipedia.org/wiki/Highest_temperature_recorded_on_Earth'\n",
    "secondResponse = requests.get(secondURL)\n",
    "html = secondResponse.text\n",
    "soup = bs(html, 'html.parser')\n",
    "article = soup.find(id='mw-content-text')\n",
    "temperature = str(article.find_all('p')[5])\n",
    "text = temperature[3:232]\n",
    "print(text)"
   ]
  },
  {
   "cell_type": "code",
   "execution_count": 187,
   "metadata": {},
   "outputs": [
    {
     "name": "stdout",
     "output_type": "stream",
     "text": [
      "Time on average to complete a video game from each year (2004-2008)\n",
      "\n",
      "2004 8.025 hours\n",
      "2005 11.588 hours\n",
      "2006 14.997 hours\n",
      "2007 13.803 hours\n",
      "2008 13.614 hours\n"
     ]
    }
   ],
   "source": [
    "''' Direct Download: your findings '''\n",
    "# In this cell I use a direct download to answer a question about video games from 2004-2008\n",
    "third_url = 'https://corgis-edu.github.io/corgis/datasets/json/video_games/video_games.json'\n",
    "third_response = requests.get(third_url)\n",
    "third_json = third_response.json()\n",
    "years = [2004, 2005, 2006, 2007, 2008]\n",
    "time_years = {}\n",
    "count_years = {}\n",
    "\n",
    "for year in years:\n",
    "    time_years[year] = 0\n",
    "    count_years[year] = 0\n",
    "    \n",
    "for game in third_json:\n",
    "    for year in years:        \n",
    "        if game['Release']['Year'] == year:\n",
    "            time_years[year] += game['Length']['All PlayStyles']['Average']\n",
    "            count_years[year] += 1\n",
    "\n",
    "print('Time on average to complete a video game from each year (2004-2008)\\n')\n",
    "for year in years:\n",
    "    print(year, (round(time_years[year]/count_years[year], 3)), 'hours')"
   ]
  },
  {
   "cell_type": "code",
   "execution_count": 188,
   "metadata": {},
   "outputs": [
    {
     "data": {
      "text/plain": [
       "Text(0, 0.5, 'Hours')"
      ]
     },
     "execution_count": 188,
     "metadata": {},
     "output_type": "execute_result"
    },
    {
     "data": {
      "image/png": "[encoded data removed]",
      "text/plain": [
       "<Figure size 640x480 with 1 Axes>"
      ]
     },
     "metadata": {},
     "output_type": "display_data"
    }
   ],
   "source": [
    "''' Visualization: '''\n",
    "# In this cell I create a visualization about question 3\n",
    "str_years = ['2004', '2005', '2006', '2007', '2008']\n",
    "list_avg_time = []\n",
    "\n",
    "for year in years:\n",
    "    list_avg_time.append(round(time_years[year]/count_years[year], 3))\n",
    "    \n",
    "plt.bar(str_years, list_avg_time)\n",
    "plt.title('Average Time to Complete a Video Game by Year From 2004 to 2008')\n",
    "plt.xlabel('Year')\n",
    "plt.ylabel('Hours')"
   ]
  },
  {
   "cell_type": "markdown",
   "metadata": {},
   "source": [
    "**Visual Description:** \n",
    "The graph above represents the 'average time to complete a video game from 2004 to 2008'. The graph utilizes the video game data from corgis. More specifically, it uses the 'Length' data to determine how many hours it takes to complete a game in 'All PlayStyles'. The graph is a bar graph and I choose to use this type of graph because I think it does a good job of presenting the data visually to the viewer. The y axis of the graph represents the hours it takes, and the  x axis of the graph represents the year.\n",
    "\n",
    "**Visual Discussion:** \n",
    "When intepretting the visual data, the first thing that I notice is a general upward trend of how long it takes to complete a game until 2006. This upward trend could reflect a change in preference of consumers of video games at the time. It could be possible that consumers demanded a more complete game that would take a longer period of time to finish. This change in demand is reflected in the bar graph as shown. The hours to complete going down after 2006 could represent developers finding the sweet spot of how long a game should take according to consumers.  "
   ]
  }
 ],
 "metadata": {
  "kernelspec": {
   "display_name": "Python 3 (ipykernel)",
   "language": "python",
   "name": "python3"
  },
  "language_info": {
   "codemirror_mode": {
    "name": "ipython",
    "version": 3
   },
   "file_extension": ".py",
   "mimetype": "text/x-python",
   "name": "python",
   "nbconvert_exporter": "python",
   "pygments_lexer": "ipython3",
   "version": "3.11.4"
  }
 },
 "nbformat": 4,
 "nbformat_minor": 4
}
